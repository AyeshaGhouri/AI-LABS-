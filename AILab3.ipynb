{
  "nbformat": 4,
  "nbformat_minor": 0,
  "metadata": {
    "colab": {
      "provenance": []
    },
    "kernelspec": {
      "name": "python3",
      "display_name": "Python 3"
    },
    "language_info": {
      "name": "python"
    }
  },
  "cells": [
    {
      "cell_type": "code",
      "execution_count": null,
      "metadata": {
        "colab": {
          "base_uri": "https://localhost:8080/"
        },
        "id": "2SoLA2xICQFK",
        "outputId": "e8d71001-b5d9-481b-eca0-9bf768fe6e8a"
      },
      "outputs": [
        {
          "output_type": "stream",
          "name": "stdout",
          "text": [
            "Prediction for weather Overcast and temperature Mild: Yes\n"
          ]
        }
      ],
      "source": [
        "import numpy as np\n",
        "from collections import Counter\n",
        "\n",
        "# Sample dataset\n",
        "data = [\n",
        "    ['Sunny', 'Hot', 'No'],\n",
        "    ['Sunny', 'Hot', 'No'],\n",
        "    ['Overcast', 'Hot', 'Yes'],\n",
        "    ['Rainy', 'Mild', 'Yes'],\n",
        "    ['Rainy', 'Cool', 'Yes'],\n",
        "    ['Rainy', 'Cool', 'No'],\n",
        "    ['Overcast', 'Cool', 'Yes'],\n",
        "    ['Sunny', 'Mild', 'No'],\n",
        "    ['Sunny', 'Cool', 'Yes'],\n",
        "    ['Rainy', 'Mild', 'Yes'],\n",
        "    ['Sunny', 'Mild', 'Yes'],\n",
        "    ['Overcast', 'Mild', 'Yes'],\n",
        "    ['Overcast', 'Hot', 'Yes'],\n",
        "]\n",
        "\n",
        "# Convert categorical data to numerical data\n",
        "weather_map = {'Sunny': 0, 'Overcast': 1, 'Rainy': 2}\n",
        "temperature_map = {'Hot': 0, 'Mild': 1, 'Cool': 2}\n",
        "play_map = {'No': 0, 'Yes': 1}\n",
        "\n",
        "# Prepare the dataset\n",
        "X = []\n",
        "y = []\n",
        "for row in data:\n",
        "    X.append([weather_map[row[0]], temperature_map[row[1]]])\n",
        "    y.append(play_map[row[2]])\n",
        "\n",
        "X = np.array(X)\n",
        "y = np.array(y)\n",
        "\n",
        "# KNN function\n",
        "def euclidean_distance(a, b):\n",
        "    return np.sqrt(np.sum((a - b) ** 2))\n",
        "\n",
        "def knn_predict(X_train, y_train, X_test, k=3):\n",
        "    distances = []\n",
        "\n",
        "    # Calculate distances from the test point to all training points\n",
        "    for i in range(len(X_train)):\n",
        "        dist = euclidean_distance(X_test, X_train[i])\n",
        "        distances.append((dist, y_train[i]))\n",
        "\n",
        "    # Sort by distance and select the k nearest neighbors\n",
        "    distances.sort(key=lambda x: x[0])\n",
        "    k_nearest = distances[:k]\n",
        "\n",
        "    # Vote for the most common class\n",
        "    k_nearest_classes = [label for (_, label) in k_nearest]\n",
        "    most_common = Counter(k_nearest_classes).most_common(1)\n",
        "\n",
        "    return most_common[0][0]  # Return the class label\n",
        "\n",
        "# Test instance\n",
        "test_instance = np.array([1, 1])  # Overcast, Mild\n",
        "k = 3  # Number of neighbors\n",
        "\n",
        "# Predict\n",
        "prediction = knn_predict(X, y, test_instance, k)\n",
        "predicted_play = 'Yes' if prediction == 1 else 'No'\n",
        "\n",
        "print(f'Prediction for weather Overcast and temperature Mild: {predicted_play}')"
      ]
    },
    {
      "cell_type": "code",
      "source": [
        "import math\n",
        "\n",
        "# Define the coordinates of the query instance and training samples\n",
        "query_instance = (3, 7)\n",
        "training_samples = [(7, 7), (7, 4), (3, 4), (1, 4)]\n",
        "labels = [\"Bad\", \"Bad\", \"Good\", \"Good\"]\n",
        "\n",
        "# Calculate Euclidean distances between the query instance and each training sample\n",
        "distances = []\n",
        "for i, sample in enumerate(training_samples):\n",
        "    distance = math.sqrt((sample[0] - query_instance[0]) ** 2 + (sample[1] - query_instance[1]) ** 2)\n",
        "    distances.append((distance, labels[i]))\n",
        "\n",
        "# Sort distances to get the 3 nearest neighbors\n",
        "distances.sort(key=lambda x: x[0])\n",
        "nearest_neighbors = distances[:3]\n",
        "\n",
        "# Determine the majority class among the 3 nearest neighbors\n",
        "nearest_neighbors\n"
      ],
      "metadata": {
        "id": "raIfN2g2Fb_E",
        "outputId": "3ba5b2c1-c11c-47b3-d933-3145bd1fac23",
        "colab": {
          "base_uri": "https://localhost:8080/"
        }
      },
      "execution_count": null,
      "outputs": [
        {
          "output_type": "execute_result",
          "data": {
            "text/plain": [
              "[(3.0, 'Good'), (3.605551275463989, 'Good'), (4.0, 'Bad')]"
            ]
          },
          "metadata": {},
          "execution_count": 2
        }
      ]
    }
  ]
}