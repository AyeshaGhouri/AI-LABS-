{
  "nbformat": 4,
  "nbformat_minor": 0,
  "metadata": {
    "colab": {
      "provenance": [],
      "toc_visible": true
    },
    "kernelspec": {
      "name": "python3",
      "display_name": "Python 3"
    },
    "language_info": {
      "name": "python"
    }
  },
  "cells": [
    {
      "cell_type": "code",
      "execution_count": null,
      "metadata": {
        "colab": {
          "base_uri": "https://localhost:8080/"
        },
        "id": "FAkpLi1H8kOQ",
        "outputId": "065a1994-b4f8-48a0-89bb-6d1842a23db8"
      },
      "outputs": [
        {
          "output_type": "stream",
          "name": "stdout",
          "text": [
            "Enter a number: 6\n",
            "The final result is: 17.0\n"
          ]
        }
      ],
      "source": [
        "\n",
        "number = float(input(\"Enter a number: \"))\n",
        "# Perform operations\n",
        "\n",
        "result = (((number + 3) * 2) - 4) + 3\n",
        "\n",
        "print(\"The final result is:\", result)\n"
      ]
    },
    {
      "cell_type": "code",
      "source": [
        "# Get user input for Celsius\n",
        "celsius = float(input(\"Enter temperature in Celsius: \"))\n",
        "\n",
        "# Convert Celsius to Fahrenheit\n",
        "fahrenheit = (celsius * 1.8) + 32\n",
        "\n",
        "# Print the result\n",
        "print(f\"The temperature in Fahrenheit is: {fahrenheit}\")\n"
      ],
      "metadata": {
        "colab": {
          "base_uri": "https://localhost:8080/"
        },
        "id": "8-2R8cWGIl9j",
        "outputId": "9dfaae20-d96a-4741-b8e4-f70f83360a9e"
      },
      "execution_count": null,
      "outputs": [
        {
          "output_type": "stream",
          "name": "stdout",
          "text": [
            "Enter temperature in Celsius: 40\n",
            "The temperature in Fahrenheit is: 104.0\n"
          ]
        }
      ]
    },
    {
      "cell_type": "code",
      "source": [
        "import math\n",
        "radius = float(input(\"Enter value of radius\"))\n",
        "area = math.pi * (radius ** 2)\n",
        "print(f\"The area of the cirle is: {area}\")"
      ],
      "metadata": {
        "colab": {
          "base_uri": "https://localhost:8080/"
        },
        "id": "rT4hXBK8Jjpx",
        "outputId": "5b6f6ce8-7d5d-471a-d76e-9d51705e64c9"
      },
      "execution_count": null,
      "outputs": [
        {
          "output_type": "stream",
          "name": "stdout",
          "text": [
            "Enter value of radius2.0\n",
            "The area of the cirle is: 12.566370614359172\n"
          ]
        }
      ]
    },
    {
      "cell_type": "code",
      "source": [
        "# Store a person's name with whitespace characters\n",
        "name = \"\\t\\n  Ayesha  \\n\\t\"\n",
        "\n",
        "# Print the name with the whitespace displayed\n",
        "print(\"Original name with whitespace:\")\n",
        "print(f\"'{name}'\")  # Using single quotes to highlight the whitespace\n",
        "\n",
        "# Use lstrip() to remove leading whitespace\n",
        "print(\"\\nName after using lstrip():\")\n",
        "print(f\"'{name.lstrip()}'\")\n",
        "\n",
        "# Use rstrip() to remove trailing whitespace\n",
        "print(\"\\nName after using rstrip():\")\n",
        "print(f\"'{name.rstrip()}'\")\n",
        "\n",
        "# Use strip() to remove both leading and trailing whitespace\n",
        "print(\"\\nName after using strip():\")\n",
        "print(f\"'{name.strip()}'\")\n"
      ],
      "metadata": {
        "colab": {
          "base_uri": "https://localhost:8080/"
        },
        "id": "XzoONL5zNPtJ",
        "outputId": "e93553b3-e91a-4ce0-9122-0280e9109f0c"
      },
      "execution_count": null,
      "outputs": [
        {
          "output_type": "stream",
          "name": "stdout",
          "text": [
            "Original name with whitespace:\n",
            "'\t\n",
            "  Ayesha  \n",
            "\t'\n",
            "\n",
            "Name after using lstrip():\n",
            "'Ayesha  \n",
            "\t'\n",
            "\n",
            "Name after using rstrip():\n",
            "'\t\n",
            "  Ayesha'\n",
            "\n",
            "Name after using strip():\n",
            "'Ayesha'\n"
          ]
        }
      ]
    },
    {
      "cell_type": "code",
      "source": [
        "number=int(input('Enter a number to create multiplication table:'))\n",
        "print(f\"\\nMultiplication table for {number}:\\n\")\n",
        "for i in range(1,11):\n",
        "  result= number*i\n",
        "  print(f\"{number} x {i} = {result}\")"
      ],
      "metadata": {
        "colab": {
          "base_uri": "https://localhost:8080/"
        },
        "id": "NFFjJm9fTa7N",
        "outputId": "1c45f6cd-7571-44fc-8181-58021b79fee2"
      },
      "execution_count": null,
      "outputs": [
        {
          "output_type": "stream",
          "name": "stdout",
          "text": [
            "Enter a number to create multiplication table:6\n",
            "\n",
            "Multiplication table for 6:\n",
            "\n",
            "6 x 1 = 6\n",
            "6 x 2 = 12\n",
            "6 x 3 = 18\n",
            "6 x 4 = 24\n",
            "6 x 5 = 30\n",
            "6 x 6 = 36\n",
            "6 x 7 = 42\n",
            "6 x 8 = 48\n",
            "6 x 9 = 54\n",
            "6 x 10 = 60\n"
          ]
        }
      ]
    },
    {
      "cell_type": "code",
      "source": [
        "# Get user input for the number\n",
        "number = int(input(\"Enter a number to create its multiplication table: \"))\n",
        "\n",
        "# Print the multiplication table from 1 to 10\n",
        "print(f\"\\nMultiplication table for {number}:\\n\")\n",
        "for i in range(1, 11):  # Loop from 1 to 10\n",
        "    result = number * i\n",
        "    print(f\"{number} x {i} = {result}\")\n"
      ],
      "metadata": {
        "colab": {
          "base_uri": "https://localhost:8080/"
        },
        "id": "O8-_v1UTVkhm",
        "outputId": "824519a3-4127-4fc1-a478-6193427de698"
      },
      "execution_count": null,
      "outputs": [
        {
          "output_type": "stream",
          "name": "stdout",
          "text": [
            "Enter a number to create its multiplication table: 6\n",
            "\n",
            "Multiplication table for 6:\n",
            "\n",
            "6 x 1 = 6\n",
            "6 x 2 = 12\n",
            "6 x 3 = 18\n",
            "6 x 4 = 24\n",
            "6 x 5 = 30\n",
            "6 x 6 = 36\n",
            "6 x 7 = 42\n",
            "6 x 8 = 48\n",
            "6 x 9 = 54\n",
            "6 x 10 = 60\n"
          ]
        }
      ]
    },
    {
      "cell_type": "code",
      "source": [
        "def describe_city(city, country='Pakistan'):\n",
        "    \"\"\"Print a simple sentence describing a city and its country.\"\"\"\n",
        "    print(f\"{city} is in {country}.\")\n",
        "\n",
        "# Call the function for three different cities\n",
        "describe_city('Islamabad')           # Default country\n",
        "describe_city('Lahore')              # Default country\n",
        "describe_city('Istanbul', 'Turkey')     # Different country\n"
      ],
      "metadata": {
        "colab": {
          "base_uri": "https://localhost:8080/"
        },
        "id": "No2UiB8zW285",
        "outputId": "63f814ee-cf50-45c5-e50e-54e3b3230e88"
      },
      "execution_count": null,
      "outputs": [
        {
          "output_type": "stream",
          "name": "stdout",
          "text": [
            "Islamabad is in Pakistan.\n",
            "Lahore is in Pakistan.\n",
            "Istanbul is in Turkey.\n"
          ]
        }
      ]
    },
    {
      "cell_type": "code",
      "source": [
        "def absolute_num(num):\n",
        "    \"\"\"Return the absolute value of the entered number.\"\"\"\n",
        "    if num < 0:\n",
        "        return -num  # Return the positive equivalent of the negative number\n",
        "    else:\n",
        "        return num  # Return the number as is if it's already positive\n",
        "\n",
        "# Example usage\n",
        "print(absolute_num(10))\n",
        "print(absolute_num(-20))\n",
        "print(absolute_num(30))\n"
      ],
      "metadata": {
        "colab": {
          "base_uri": "https://localhost:8080/"
        },
        "id": "sSWRE4K6X_W-",
        "outputId": "d67c6223-efaa-4ca2-b833-6eea7489e091"
      },
      "execution_count": null,
      "outputs": [
        {
          "output_type": "stream",
          "name": "stdout",
          "text": [
            "10\n",
            "20\n",
            "30\n"
          ]
        }
      ]
    },
    {
      "cell_type": "code",
      "source": [
        "# Get user input for the alphabet\n",
        "alphabet = input(\"Enter an alphabet: \").lower()  # Convert to lowercase for uniformity\n",
        "\n",
        "# Check if the input is a single alphabet\n",
        "if len(alphabet) != 1 or not alphabet.isalpha():\n",
        "    print(\"Please enter a single alphabet.\")\n",
        "else:\n",
        "    # Check if the alphabet is a vowel\n",
        "    if alphabet in 'aeiou':\n",
        "        print(f\"{alphabet} is a vowel.\")\n",
        "    else:\n",
        "        print(f\"{alphabet} is a consonant.\")\n"
      ],
      "metadata": {
        "colab": {
          "base_uri": "https://localhost:8080/"
        },
        "id": "vTiKSZdQY1YR",
        "outputId": "fe561c42-1fa3-4e65-bfcd-cff64d9c87f6"
      },
      "execution_count": null,
      "outputs": [
        {
          "output_type": "stream",
          "name": "stdout",
          "text": [
            "Enter an alphabet: t\n",
            "t is a consonant.\n"
          ]
        }
      ]
    },
    {
      "cell_type": "code",
      "source": [
        "def is_prime(number):\n",
        "    \"\"\"Check if a number is prime.\"\"\"\n",
        "    if number <= 1:\n",
        "        return False  # Numbers less than or equal to 1 are not prime\n",
        "    for i in range(2, int(number**0.5) + 1):  # Check divisibility up to the square root of the number\n",
        "        if number % i == 0:\n",
        "            return False  # If divisible by any number other than 1 and itself, it's not prime\n",
        "    return True  # If no divisors found, it's prime\n",
        "\n",
        "# Get user input\n",
        "num = int(input(\"Enter a number to check if it is prime: \"))\n",
        "\n",
        "# Check if the number is prime and print the result\n",
        "if is_prime(num):\n",
        "    print(f\"{num} is a prime number.\")\n",
        "else:\n",
        "    print(f\"{num} is not a prime number.\")\n"
      ],
      "metadata": {
        "colab": {
          "base_uri": "https://localhost:8080/"
        },
        "id": "IN30gkhJbVnb",
        "outputId": "06ac87ff-95aa-4d09-b34a-ecd61e4766d8"
      },
      "execution_count": null,
      "outputs": [
        {
          "output_type": "stream",
          "name": "stdout",
          "text": [
            "Enter a number to check if it is prime: 20\n",
            "20 is not a prime number.\n"
          ]
        }
      ]
    },
    {
      "cell_type": "code",
      "source": [
        "for number in range(7):  # Loop from 0 to 6\n",
        "    if number == 3 or number == 6:  # Check if the number is 3 or 6\n",
        "        continue  # Skip the rest of the loop for these numbers\n",
        "    print(number)  # Print the number if it is not 3 or 6\n"
      ],
      "metadata": {
        "colab": {
          "base_uri": "https://localhost:8080/"
        },
        "id": "XF_95yVacUuV",
        "outputId": "f007c60f-15ce-476e-9d54-fd4c89f1de6a"
      },
      "execution_count": null,
      "outputs": [
        {
          "output_type": "stream",
          "name": "stdout",
          "text": [
            "0\n",
            "1\n",
            "2\n",
            "4\n",
            "5\n"
          ]
        }
      ]
    },
    {
      "cell_type": "code",
      "source": [
        "# Number of rows for the pattern\n",
        "rows = 5\n",
        "\n",
        "# Outer loop for each row\n",
        "for i in range(1, rows + 1):\n",
        "    # Inner loop for printing the number 'i', 'i' times\n",
        "    for j in range(i):\n",
        "        print(i, end=' ')  # Print the number with a space but stay on the same line\n",
        "    print()  # Move to the next line after printing each row\n"
      ],
      "metadata": {
        "colab": {
          "base_uri": "https://localhost:8080/"
        },
        "id": "n80Tv6nadAr0",
        "outputId": "fa15f515-a8f7-41f7-a06b-473bc9ae44ac"
      },
      "execution_count": null,
      "outputs": [
        {
          "output_type": "stream",
          "name": "stdout",
          "text": [
            "1 \n",
            "2 2 \n",
            "3 3 3 \n",
            "4 4 4 4 \n",
            "5 5 5 5 5 \n"
          ]
        }
      ]
    },
    {
      "cell_type": "code",
      "source": [
        "# Set the value for the variable age\n",
        "age = 40  # You can change this value to test different stages of life\n",
        "\n",
        "# Determine the stage of life using if-elif-else statements\n",
        "if age < 2:\n",
        "    print(\"The person is a baby.\")\n",
        "elif age >= 4 and age < 13:\n",
        "    print(\"The person is a kid.\")\n",
        "elif age >= 13 and age < 20:\n",
        "    print(\"The person is a teenager.\")\n",
        "elif age >= 20 and age < 65:\n",
        "    print(\"The person is an adult.\")\n",
        "else:  # age 65 or older\n",
        "    print(\"The person is an elder.\")\n"
      ],
      "metadata": {
        "colab": {
          "base_uri": "https://localhost:8080/"
        },
        "id": "QAyg9sNxd1mC",
        "outputId": "079fcea6-3e31-4321-afe2-9c230dbb041e"
      },
      "execution_count": null,
      "outputs": [
        {
          "output_type": "stream",
          "name": "stdout",
          "text": [
            "The person is an adult.\n"
          ]
        }
      ]
    }
  ]
}