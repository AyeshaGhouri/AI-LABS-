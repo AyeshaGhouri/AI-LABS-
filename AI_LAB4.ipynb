{
  "nbformat": 4,
  "nbformat_minor": 0,
  "metadata": {
    "colab": {
      "provenance": []
    },
    "kernelspec": {
      "name": "python3",
      "display_name": "Python 3"
    },
    "language_info": {
      "name": "python"
    }
  },
  "cells": [
    {
      "cell_type": "code",
      "execution_count": 1,
      "metadata": {
        "colab": {
          "base_uri": "https://localhost:8080/"
        },
        "id": "46eHS7-Ysl59",
        "outputId": "27cf2cbb-4dc4-40ad-f8a0-313fb8151658"
      },
      "outputs": [
        {
          "output_type": "stream",
          "name": "stdout",
          "text": [
            "Prediction: Yes\n"
          ]
        }
      ],
      "source": [
        "from collections import Counter\n",
        "\n",
        "# Sample dataset\n",
        "data = [\n",
        "    {'Age': 'Youth', 'Income': 'High', 'Student': 'No', 'Credit': 'Fair', 'Buy': 'No'},\n",
        "    {'Age': 'Youth', 'Income': 'High', 'Student': 'No', 'Credit': 'Excellent', 'Buy': 'No'},\n",
        "    {'Age': 'Middle', 'Income': 'High', 'Student': 'No', 'Credit': 'Fair', 'Buy': 'Yes'},\n",
        "    {'Age': 'Senior', 'Income': 'Medium', 'Student': 'No', 'Credit': 'Fair', 'Buy': 'Yes'},\n",
        "    {'Age': 'Senior', 'Income': 'Low', 'Student': 'Yes', 'Credit': 'Fair', 'Buy': 'Yes'},\n",
        "    {'Age': 'Senior', 'Income': 'Low', 'Student': 'Yes', 'Credit': 'Excellent', 'Buy': 'No'},\n",
        "    {'Age': 'Middle', 'Income': 'Low', 'Student': 'Yes', 'Credit': 'Excellent', 'Buy': 'Yes'},\n",
        "    {'Age': 'Youth', 'Income': 'Medium', 'Student': 'No', 'Credit': 'Fair', 'Buy': 'No'},\n",
        "    {'Age': 'Youth', 'Income': 'Low', 'Student': 'Yes', 'Credit': 'Fair', 'Buy': 'Yes'},\n",
        "    {'Age': 'Senior', 'Income': 'Medium', 'Student': 'Yes', 'Credit': 'Fair', 'Buy': 'Yes'},\n",
        "    {'Age': 'Youth', 'Income': 'Medium', 'Student': 'Yes', 'Credit': 'Excellent', 'Buy': 'Yes'},\n",
        "    {'Age': 'Middle', 'Income': 'Medium', 'Student': 'No', 'Credit': 'Excellent', 'Buy': 'Yes'},\n",
        "    {'Age': 'Middle', 'Income': 'High', 'Student': 'Yes', 'Credit': 'Fair', 'Buy': 'Yes'},\n",
        "    {'Age': 'Senior', 'Income': 'Medium', 'Student': 'No', 'Credit': 'Excellent', 'Buy': 'No'}\n",
        "]\n",
        "\n",
        "# Calculate prior probabilities\n",
        "total_count = len(data)\n",
        "buy_counts = Counter(item['Buy'] for item in data)\n",
        "\n",
        "prior_yes = buy_counts['Yes'] / total_count\n",
        "prior_no = buy_counts['No'] / total_count\n",
        "\n",
        "# Calculate conditional probabilities\n",
        "def conditional_prob(feature, value, label):\n",
        "    subset = [item for item in data if item['Buy'] == label]\n",
        "    feature_count = sum(1 for item in subset if item[feature] == value)\n",
        "    return feature_count / len(subset) if len(subset) > 0 else 0\n",
        "\n",
        "# Given conditions for the new instance\n",
        "age_condition = 'Youth'\n",
        "income_condition = 'Medium'\n",
        "student_condition = 'Yes'\n",
        "credit_condition = 'Fair'\n",
        "\n",
        "# Calculate likelihoods\n",
        "likelihood_yes = (\n",
        "    conditional_prob('Age', age_condition, 'Yes') *\n",
        "    conditional_prob('Income', income_condition, 'Yes') *\n",
        "    conditional_prob('Student', student_condition, 'Yes') *\n",
        "    conditional_prob('Credit', credit_condition, 'Yes')\n",
        ")\n",
        "\n",
        "likelihood_no = (\n",
        "    conditional_prob('Age', age_condition, 'No') *\n",
        "    conditional_prob('Income', income_condition, 'No') *\n",
        "    conditional_prob('Student', student_condition, 'No') *\n",
        "    conditional_prob('Credit', credit_condition, 'No')\n",
        ")\n",
        "\n",
        "# Calculate posteriors\n",
        "posterior_yes = prior_yes * likelihood_yes\n",
        "posterior_no = prior_no * likelihood_no\n",
        "\n",
        "# Prediction\n",
        "if posterior_yes > posterior_no:\n",
        "    prediction = 'Yes'\n",
        "else:\n",
        "    prediction = 'No'\n",
        "\n",
        "print(f\"Prediction: {prediction}\")\n"
      ]
    },
    {
      "cell_type": "code",
      "source": [
        "from collections import Counter\n",
        "\n",
        "# Example dataset\n",
        "data = [\n",
        "    {'Age': 'youth', 'Income': 'high', 'Student': 'no', 'Credit_rating': 'fair', 'Buys': 'no'},\n",
        "    {'Age': 'youth', 'Income': 'high', 'Student': 'no', 'Credit_rating': 'excellent', 'Buys': 'no'},\n",
        "    {'Age': 'middle_aged', 'Income': 'high', 'Student': 'no', 'Credit_rating': 'fair', 'Buys': 'yes'},\n",
        "    {'Age': 'senior', 'Income': 'medium', 'Student': 'no', 'Credit_rating': 'fair', 'Buys': 'yes'},\n",
        "    {'Age': 'senior', 'Income': 'low', 'Student': 'yes', 'Credit_rating': 'fair', 'Buys': 'yes'},\n",
        "    {'Age': 'senior', 'Income': 'low', 'Student': 'yes', 'Credit_rating': 'excellent', 'Buys': 'no'},\n",
        "    {'Age': 'middle_aged', 'Income': 'low', 'Student': 'yes', 'Credit_rating': 'excellent', 'Buys': 'yes'},\n",
        "    {'Age': 'youth', 'Income': 'medium', 'Student': 'no', 'Credit_rating': 'fair', 'Buys': 'no'},\n",
        "    {'Age': 'youth', 'Income': 'low', 'Student': 'yes', 'Credit_rating': 'fair', 'Buys': 'yes'},\n",
        "    {'Age': 'senior', 'Income': 'medium', 'Student': 'yes', 'Credit_rating': 'fair', 'Buys': 'yes'},\n",
        "    {'Age': 'youth', 'Income': 'medium', 'Student': 'yes', 'Credit_rating': 'excellent', 'Buys': 'yes'},\n",
        "    {'Age': 'middle_aged', 'Income': 'medium', 'Student': 'no', 'Credit_rating': 'excellent', 'Buys': 'yes'},\n",
        "    {'Age': 'middle_aged', 'Income': 'high', 'Student': 'yes', 'Credit_rating': 'fair', 'Buys': 'yes'},\n",
        "    {'Age': 'senior', 'Income': 'medium', 'Student': 'no', 'Credit_rating': 'excellent', 'Buys': 'no'}\n",
        "]\n",
        "\n",
        "# Calculate prior probabilities\n",
        "total_count = len(data)\n",
        "buys_counts = Counter(item['Buys'] for item in data)\n",
        "\n",
        "prior_yes = buys_counts['yes'] / total_count\n",
        "prior_no = buys_counts['no'] / total_count\n",
        "\n",
        "# Calculate conditional probabilities\n",
        "def conditional_prob(feature, value, label):\n",
        "    subset = [item for item in data if item['Buys'] == label]\n",
        "    feature_count = sum(1 for item in subset if item[feature] == value)\n",
        "    return feature_count / len(subset) if len(subset) > 0 else 0\n",
        "\n",
        "# Given conditions\n",
        "age_condition = 'youth'\n",
        "income_condition = 'medium'\n",
        "student_condition = 'yes'\n",
        "credit_condition = 'fair'\n",
        "\n",
        "# Calculate likelihoods\n",
        "likelihood_yes = (conditional_prob('Age', age_condition, 'yes') *\n",
        "                  conditional_prob('Income', income_condition, 'yes') *\n",
        "                  conditional_prob('Student', student_condition, 'yes') *\n",
        "                  conditional_prob('Credit_rating', credit_condition, 'yes'))\n",
        "\n",
        "likelihood_no = (conditional_prob('Age', age_condition, 'no') *\n",
        "                 conditional_prob('Income', income_condition, 'no') *\n",
        "                 conditional_prob('Student', student_condition, 'no') *\n",
        "                 conditional_prob('Credit_rating', credit_condition, 'no'))\n",
        "\n",
        "# Calculate posteriors\n",
        "posterior_yes = prior_yes * likelihood_yes\n",
        "posterior_no = prior_no * likelihood_no\n",
        "\n",
        "# Prediction\n",
        "if posterior_yes > posterior_no:\n",
        "    prediction = 'yes'\n",
        "else:\n",
        "    prediction = 'no'\n",
        "\n",
        "print(f\"Prediction: {prediction}\")\n"
      ],
      "metadata": {
        "colab": {
          "base_uri": "https://localhost:8080/"
        },
        "id": "Cbh7GQASujzi",
        "outputId": "524cb560-211c-4e40-8a68-4b3664e06952"
      },
      "execution_count": 3,
      "outputs": [
        {
          "output_type": "stream",
          "name": "stdout",
          "text": [
            "Prediction: yes\n"
          ]
        }
      ]
    },
    {
      "cell_type": "code",
      "source": [
        "from collections import Counter\n",
        "\n",
        "# Reformatted dataset\n",
        "data = [\n",
        "    {'Weather': 'Sunny', 'Temperature': 'Hot', 'Play': 'No'},\n",
        "    {'Weather': 'Sunny', 'Temperature': 'Hot', 'Play': 'No'},\n",
        "    {'Weather': 'Overcast', 'Temperature': 'Hot', 'Play': 'Yes'},\n",
        "    {'Weather': 'Rainy', 'Temperature': 'Mild', 'Play': 'Yes'},\n",
        "    {'Weather': 'Rainy', 'Temperature': 'Cool', 'Play': 'Yes'},\n",
        "    {'Weather': 'Rainy', 'Temperature': 'Cool', 'Play': 'No'},\n",
        "    {'Weather': 'Overcast', 'Temperature': 'Cool', 'Play': 'Yes'},\n",
        "    {'Weather': 'Sunny', 'Temperature': 'Mild', 'Play': 'No'},\n",
        "    {'Weather': 'Sunny', 'Temperature': 'Cool', 'Play': 'Yes'},\n",
        "    {'Weather': 'Rainy', 'Temperature': 'Mild', 'Play': 'Yes'},\n",
        "    {'Weather': 'Sunny', 'Temperature': 'Mild', 'Play': 'Yes'},\n",
        "    {'Weather': 'Overcast', 'Temperature': 'Mild', 'Play': 'Yes'},\n",
        "    {'Weather': 'Overcast', 'Temperature': 'Hot', 'Play': 'Yes'}\n",
        "]\n",
        "\n",
        "# Calculate prior probabilities\n",
        "total_count = len(data)\n",
        "play_counts = Counter(item['Play'] for item in data)\n",
        "\n",
        "prior_yes = play_counts['Yes'] / total_count\n",
        "prior_no = play_counts['No'] / total_count\n",
        "\n",
        "# Calculate conditional probabilities\n",
        "def conditional_prob(feature, value, label):\n",
        "    subset = [item for item in data if item['Play'] == label]\n",
        "    feature_count = sum(1 for item in subset if item[feature] == value)\n",
        "    return feature_count / len(subset) if len(subset) > 0 else 0\n",
        "\n",
        "# Given conditions\n",
        "weather_condition = 'Overcast'\n",
        "temperature_condition = 'Mild'\n",
        "\n",
        "# Calculate likelihoods\n",
        "likelihood_yes = conditional_prob('Weather', weather_condition, 'Yes') * conditional_prob('Temperature', temperature_condition, 'Yes')\n",
        "likelihood_no = conditional_prob('Weather', weather_condition, 'No') * conditional_prob('Temperature', temperature_condition, 'No')\n",
        "\n",
        "# Calculate posteriors\n",
        "posterior_yes = prior_yes * likelihood_yes\n",
        "posterior_no = prior_no * likelihood_no\n",
        "\n",
        "# Prediction\n",
        "if posterior_yes > posterior_no:\n",
        "    prediction = 'Yes'\n",
        "else:\n",
        "    prediction = 'No'\n",
        "\n",
        "print(f\"Prediction: {prediction}\")\n"
      ],
      "metadata": {
        "colab": {
          "base_uri": "https://localhost:8080/"
        },
        "id": "TbRCEcs-szlY",
        "outputId": "bf569751-efd7-44dd-e3af-5bcd8bcf2e5b"
      },
      "execution_count": 2,
      "outputs": [
        {
          "output_type": "stream",
          "name": "stdout",
          "text": [
            "Prediction: Yes\n"
          ]
        }
      ]
    }
  ]
}